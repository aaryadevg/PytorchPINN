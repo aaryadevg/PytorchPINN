{
  "cells": [
    {
      "cell_type": "markdown",
      "metadata": {
        "id": "qWsYFPdMkkR7"
      },
      "source": [
        "# PINNs (Physics Informed Neural Networks)\n",
        "---\n",
        "\n",
        "This is an implentation of a physics informed neural network, to solve the logistic equation in pytorch, a PINN works by defining a function $f$ which is a neural network, and a loss function such that when the loss function is minimized $f$ is approximetly equal to the solution of the differential equation \n",
        "\n",
        "##Required libraries\n",
        "- pytorch\n",
        "- numpy\n",
        "- scipy (ODE Solver for comparision)\n",
        "- matplotlib (Drawing graphs)\n",
        "\n"
      ]
    },
    {
      "cell_type": "code",
      "execution_count": null,
      "metadata": {
        "id": "YfcdtTIqw9lJ"
      },
      "outputs": [],
      "source": [
        "# import libraries\n",
        "from torch import nn as nn\n",
        "import torch\n",
        "import torch.autograd as ag\n",
        "import numpy as np\n",
        "import matplotlib.pyplot as plt\n",
        "\n",
        "from scipy.integrate import odeint\n",
        "\n",
        "seed = 42\n",
        "torch.manual_seed(seed)\n",
        "torch.cuda.manual_seed(seed)\n",
        "torch.cuda.manual_seed_all(seed)\n"
      ]
    },
    {
      "cell_type": "markdown",
      "metadata": {
        "id": "u8ajIUVWswbb"
      },
      "source": [
        "#Defining the diffrential equation\n",
        "---\n",
        "\n",
        "For this implementation I have decide to solve the following equation this servers mostly as an example problem to learn about PINN and how they work\n",
        "\n",
        "## Equation\n",
        "$$\n",
        "    \\frac{d^2f}{dt} + \\frac{df}{dt} + f = 0\n",
        "$$\n",
        "With Initial Condition\n",
        "- $f(0) = 1$\n",
        "- $\\frac{df}{dt}(0) = 0$\n",
        "\n",
        "_I am not sure if an analytic solution exist, therefore I will use Runga Kutta Order 4 (RK) to approximate the solution and generate some training data as well as comparision_\n",
        "\n",
        "To use RK the equation needs to be converted to a system of 1st order ODE's as follow\n",
        "\n",
        "$$\n",
        "    \\text{let } u_1 = f \\\\\n",
        "    \\text{let } u_2 = \\frac{du_1}{dt} = \\frac{df}{dt} \\\\\n",
        "$$\n",
        "Therefore\n",
        "$$\n",
        "    \\frac{du_1}{dt} = u_2 \\\\\n",
        "    \\frac{du_2}{dt} = -u_1 - u_2\n",
        "$$\n",
        "Written as a Matrix\n",
        "$$\n",
        "    \\pmatrix{\n",
        "        \\frac{du_1}{dt} \\\\\n",
        "        \\frac{du_2}{dt}\n",
        "    } = \n",
        "    \\pmatrix{\n",
        "        0  &  1 \\\\\n",
        "        -1 & -1\n",
        "    } \\cdot \\pmatrix{u_1 \\\\ u_2}\n",
        "$$\n"
      ]
    },
    {
      "cell_type": "code",
      "execution_count": null,
      "metadata": {
        "id": "77vhP_Zn9Pvp"
      },
      "outputs": [],
      "source": [
        "}def DE(x,t):\n",
        "    M = np.array([[ 0,   1],\n",
        "                  [-1, -1]])\n",
        "    \n",
        "    return M @ x\n",
        "\n",
        "def RK(x):\n",
        "    y0 = np.array([1,0])\n",
        "    y  = odeint(DE, y0, x)\n",
        "    return y[:,0]"
      ]
    },
    {
      "cell_type": "markdown",
      "metadata": {
        "id": "f0IAsYrUn_eK"
      },
      "source": [
        "#Defining the neural Network architecture\n",
        "---\n",
        "\n",
        "The neural network consists of a simple fully connected layer with 1 input and 1 output since this an ODE (Odinary differential equation) this neural network plays the role of function $f$ as mentioned above\n"
      ]
    },
    {
      "cell_type": "code",
      "execution_count": null,
      "metadata": {
        "id": "6Gb7ajZhyUjr"
      },
      "outputs": [],
      "source": [
        "class ApproximatorNet(nn.Module):\n",
        "    def __init__(self, input_size: int = 1, output_size: int = 1, hidden_layers: int = 5, hidden_nodes: int = 10) -> None:\n",
        "        \"\"\"\n",
        "            Builds an neural network to approximate the value of the differential equation\n",
        "            input_size must be set to number of parameters in the function f for ODE this is 1\n",
        "            output_size number of values output by the function for ODE this is 1\n",
        "        \"\"\"\n",
        "        super().__init__()\n",
        "        \n",
        "        self.inputs  = nn.Linear(input_size, hidden_nodes)\n",
        "        self.model   = nn.ModuleList([nn.Linear(hidden_nodes, hidden_nodes)] * hidden_layers)\n",
        "        self.outputs = nn.Linear(hidden_nodes, output_size) \n",
        "        \n",
        "        self.activation = nn.Tanh() # Can be either tanh or sigmoid, ReLU is not differentiable everywhere, I think\n",
        "    \n",
        "    def _apply_model(self, x: torch.Tensor) -> torch.Tensor:\n",
        "        \"\"\"\n",
        "            Runs the input through the hidden layers\n",
        "        \"\"\"\n",
        "        for layer in self.model:\n",
        "            x = self.activation(layer(x))\n",
        "        return x\n",
        "\n",
        "    def forward(self, t: torch.Tensor) -> torch.Tensor:\n",
        "        t = self.activation(self.inputs(t))\n",
        "        t = self._apply_model(t)\n",
        "        t = self.outputs(t)\n",
        "        return t\n",
        "\n"
      ]
    },
    {
      "cell_type": "markdown",
      "metadata": {
        "id": "OrrMSi6fubPc"
      },
      "source": [
        "## Generating the training data\n",
        "\n",
        "- $x$ is the full, high resolution set of evaluation points\n",
        "- $y$ is the actual solution, for comparision \n",
        "- $x_{data}$ and $y_{data}$ are the set of training points used to train the model note that these training points are usually generated by means expirements and need not be from an existing algorithm, as shown here\n",
        "\n",
        "- $x_{physics}$ is the set of points used to calculate the physics loss (loss with respect to the governing equation)"
      ]
    },
    {
      "cell_type": "code",
      "execution_count": null,
      "metadata": {
        "id": "gN-WGENjIBxJ"
      },
      "outputs": [],
      "source": [
        "x = np.linspace(0,5,500)\n",
        "y = RK(x)\n",
        "\n",
        "x = x.reshape(-1,1)\n",
        "y = y.reshape(-1,1)\n",
        "\n",
        "x_data = x[0:200:20]\n",
        "y_data = y[0:200:20]\n",
        "\n",
        "print(x_data.shape, y_data.shape)\n",
        "\n",
        "x_data_t = torch.tensor(x_data, dtype =torch.float32, device=\"cuda\")\n",
        "y_data_t = torch.tensor(y_data, dtype =torch.float32, device=\"cuda\")\n",
        "\n",
        "x_physics = torch.linspace(0, 5, 100, requires_grad=True, device=\"cuda\", dtype=torch.float32).reshape(-1,1)"
      ]
    },
    {
      "cell_type": "markdown",
      "metadata": {
        "id": "0moB9HUywvb7"
      },
      "source": [
        "## Setting up the hyper parameters and traing\n",
        "\n",
        "### Loss Function\n",
        "\n",
        "This part follows standard procedures to train a neural network, except the loss function is made up of 2 parts ${loss}_u$ which denotes the data loss (loss with respect to the data points) and ${loss}_f$ which denotes the physics loss, the losses are calulated as follows. the total loss of the model is a sum of these 2 losses\n",
        "\n",
        "$$\n",
        "    {loss}_u = \\frac{1}{n}\\sum_{i=0}^{n}{(f(x_{data}) - y_{data})^2}\n",
        "$$\n",
        "\n",
        "and\n",
        "\n",
        "$$\n",
        "    {loss_f} = \\frac{1}{n_p}\\sum_{i=0}^{n_p}{ψ(x_{i})}\n",
        "$$\n",
        "\n",
        "where\n",
        "\n",
        "- $n = $ number of data points\n",
        "- $n_p = $ number of physics evalutaion points or $len(x_{physics})$\n",
        "- $\\psi = $ is a function representing the diffrential equation\n",
        "\n",
        "### Model architecture\n",
        "\n",
        "The model architecture used is a simple fully connected neural network with 1 input (_Since this is an ODE_) and 1 output, there are 15 hidden layers each consisting of 32 neurons \n",
        "\n",
        "---\n",
        "\n",
        "*Note: Original implementation used L-BFGS as the optimizer*"
      ]
    },
    {
      "cell_type": "code",
      "execution_count": null,
      "metadata": {
        "colab": {
          "base_uri": "https://localhost:8080/"
        },
        "id": "KMhprZ5rCrN5",
        "outputId": "f723b3c7-7a11-4f4a-d5c2-2dba168d71a4"
      },
      "outputs": [
        {
          "name": "stdout",
          "output_type": "stream",
          "text": [
            "(10, 1) (10, 1)\n",
            "Epochs = 0 of 20000, Loss = 0.6513011\n",
            "Epochs = 1000 of 20000, Loss = 0.0219624\n",
            "Epochs = 2000 of 20000, Loss = 0.0132998\n",
            "Epochs = 3000 of 20000, Loss = 0.0061515\n",
            "Epochs = 4000 of 20000, Loss = 0.0033055\n",
            "Epochs = 5000 of 20000, Loss = 0.0019824\n",
            "Epochs = 6000 of 20000, Loss = 0.0013155\n",
            "Epochs = 7000 of 20000, Loss = 0.0009150\n",
            "Epochs = 8000 of 20000, Loss = 0.0002051\n",
            "Epochs = 9000 of 20000, Loss = 0.0000967\n",
            "Epochs = 10000 of 20000, Loss = 0.0000403\n",
            "Epochs = 11000 of 20000, Loss = 0.0000310\n",
            "Epochs = 12000 of 20000, Loss = 0.0000255\n",
            "Epochs = 13000 of 20000, Loss = 0.0000214\n",
            "Epochs = 14000 of 20000, Loss = 0.0000184\n",
            "Epochs = 15000 of 20000, Loss = 0.0000157\n",
            "Epochs = 16000 of 20000, Loss = 0.0000137\n",
            "Epochs = 17000 of 20000, Loss = 0.0001432\n",
            "Epochs = 18000 of 20000, Loss = 0.0000105\n",
            "Epochs = 19000 of 20000, Loss = 0.0000091\n"
          ]
        }
      ],
      "source": [
        "# Hyperparameters\n",
        "EPOCHS = 20_000\n",
        "LR = 1e-4\n",
        "\n",
        "model = ApproximatorNet(hidden_layers=15, hidden_nodes=32).to('cuda')\n",
        "optim = torch.optim.Adam(model.parameters(), lr=LR)\n",
        "data_loss = nn.MSELoss()\n",
        "\n",
        "for epoch in range(EPOCHS):\n",
        "    optim.zero_grad()\n",
        "    \n",
        "    # Compute the \"data loss\"\n",
        "    y_pred = model(x_data_t)\n",
        "    loss_u = data_loss(y_pred, y_data_t)\n",
        "    \n",
        "    # Compute the Derivates of the model WRT inputs\n",
        "    u   = model(x_physics)\n",
        "    du  = ag.grad(u, x_physics, torch.ones_like(u), create_graph=True)[0]\n",
        "    ddu = ag.grad(du,  x_physics, torch.ones_like(du),  create_graph=True)[0]\n",
        "\n",
        "    # Compute the physics loss\n",
        "    physics = ddu + du + u\n",
        "    loss_f = torch.mean(physics**2)\n",
        "    \n",
        "    # backpropagate joint loss\n",
        "    loss = loss_u + loss_f # add two loss terms together\n",
        "    loss.backward()\n",
        "    optim.step()\n",
        "    \n",
        "    if epoch % 1000 == 0:\n",
        "        print(f\"Epochs = {epoch} of {EPOCHS}, Loss = {float(loss):.7f}\")"
      ]
    },
    {
      "cell_type": "code",
      "execution_count": null,
      "metadata": {
        "colab": {
          "base_uri": "https://localhost:8080/",
          "height": 462
        },
        "id": "nunjjd7oGWXt",
        "outputId": "da00fd75-0b00-4af0-9f71-1db36ef482ba"
      },
      "outputs": [
        {
          "data": {
            "image/png": "[encoded data removed]",
            "text/plain": [
              "<Figure size 1080x504 with 1 Axes>"
            ]
          },
          "metadata": {},
          "output_type": "display_data"
        }
      ],
      "source": [
        "model.eval()\n",
        "y_pred = model(torch.tensor(x, dtype = torch.float32, device=\"cuda\").reshape(-1,1))\n",
        "y_pred = y_pred.detach().cpu().numpy().reshape(-1,)\n",
        "\n",
        "title_font = {\n",
        "    \"fontsize\" : 18,\n",
        "    \"fontweight\": \"bold\"\n",
        "} \n",
        "\n",
        "plt.figure(figsize=(15, 7))\n",
        "plt.style.use(\"ggplot\")\n",
        "plt.xticks(np.arange(0, 5.5, step=0.5))\n",
        "plt.title(\"Results\", title_font)\n",
        "plt.plot(x, y, label=\"RK4\")\n",
        "plt.xlabel(\"time\", fontsize=14)\n",
        "plt.plot(x, y_pred, label=\"PINN\", c=\"g\")\n",
        "plt.ylabel(\"u(t)\", fontsize=14)\n",
        "plt.scatter(x_data.reshape(-1,), y_data.reshape(-1,), c=\"r\", label=\"training data points\")\n",
        "plt.legend(fontsize=\"large\")\n",
        "plt.savefig(\"2nd-Order-ODE.svg\")\n",
        "plt.show()"
      ]
    },
    {
      "cell_type": "code",
      "execution_count": null,
      "metadata": {
        "id": "NyBdUKXuifs3"
      },
      "outputs": [],
      "source": [
        "PATH = f\"2ndOrderModel.pt\"\n",
        "torch.save(model.state_dict(), PATH)\n"
      ]
    }
  ],
  "metadata": {
    "accelerator": "GPU",
    "colab": {
      "collapsed_sections": [],
      "name": "PINN_HigerOrder.ipynb",
      "provenance": []
    },
    "gpuClass": "standard",
    "kernelspec": {
      "display_name": "Python 3.10.5 64-bit (windows store)",
      "language": "python",
      "name": "python3"
    },
    "language_info": {
      "name": "python",
      "version": "3.10.5"
    },
    "vscode": {
      "interpreter": {
        "hash": "3d168da3104c184f85b243b55cdfbf0b3119f2cd29b30879788df9e426f1e459"
      }
    }
  },
  "nbformat": 4,
  "nbformat_minor": 0
}

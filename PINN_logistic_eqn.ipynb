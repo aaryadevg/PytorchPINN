{
  "cells": [
    {
      "cell_type": "markdown",
      "metadata": {
        "id": "qWsYFPdMkkR7"
      },
      "source": [
        "# PINNs (Physics Informed Neural Networks)\n",
        "---\n",
        "\n",
        "This is an implentation of a physics informed neural network, to solve the logistic equation in pytorch, a PINN works by defining a function $f$ which is a neural network, and a loss function such that when the loss function is minimized $f$ is approximetly equal to the solution of the differential equation \n",
        "\n",
        "##Required libraries\n",
        "- pytorch\n",
        "- numpy\n",
        "- scipy (ODE Solver for comparision)\n",
        "- matplotlib (Drawing graphs)\n",
        "\n"
      ]
    },
    {
      "cell_type": "code",
      "execution_count": 11,
      "metadata": {
        "id": "YfcdtTIqw9lJ"
      },
      "outputs": [],
      "source": [
        "# import libraries\n",
        "from torch import nn as nn\n",
        "import torch\n",
        "import torch.autograd as ag\n",
        "import numpy as np\n",
        "import matplotlib.pyplot as plt\n",
        "\n"
      ]
    },
    {
      "cell_type": "markdown",
      "metadata": {
        "id": "u8ajIUVWswbb"
      },
      "source": [
        "#Defining the diffrential equation\n",
        "---\n",
        "\n",
        "For this implementation I have decide to solve the logistic equation which is given by the following equation $\\frac{df}{dt} = rt(1-t)$ this servers mostly as an example problem to learn about PINN and how they work, the analytic solution to the problem can found as follows:\n",
        "$$\n",
        "    \\frac{df}{dt} = rt(1-t) \\\\\n",
        "    df = (rt - rt^2)dt \\\\\n",
        "    \\int{df} = \\int{(rt - rt^2)dt} \\\\\n",
        "    f(t) = \\int{rtdt} - \\int{rt^2dt} \\\\\n",
        "    f(t) = -\\frac{r}{3}t^3 + \\frac{r}{2}t^2 + c\n",
        "$$\n",
        "\n",
        "- with $r = 1$ and $f(0) = 1$  \n",
        "\n",
        "The analytic solution will be used to compare the output of the model"
      ]
    },
    {
      "cell_type": "code",
      "execution_count": 7,
      "metadata": {
        "id": "t9wiO0_1xmM4"
      },
      "outputs": [],
      "source": [
        "def differential_equation(t: torch.Tensor) -> torch.Tensor:\n",
        "    R: float = 1.0\n",
        "    return R*t*(1-t)\n",
        "\n",
        "def analytic_solution(x):\n",
        "    return (-1/3)*(x**3) + 0.5*(x**2) + 1     "
      ]
    },
    {
      "cell_type": "markdown",
      "metadata": {
        "id": "f0IAsYrUn_eK"
      },
      "source": [
        "#Defining the neural Network architecture\n",
        "---\n",
        "\n",
        "The neural network consists of a simple fully connected layer with 1 input and 1 output since this an ODE (Odinary differential equation) this neural network plays the role of function $f$ as mentioned above\n"
      ]
    },
    {
      "cell_type": "code",
      "execution_count": 4,
      "metadata": {
        "id": "6Gb7ajZhyUjr"
      },
      "outputs": [],
      "source": [
        "class ApproximatorNet(nn.Module):\n",
        "    def __init__(self, input_size: int = 1, output_size: int = 1, hidden_layers: int = 5, hidden_nodes: int = 10) -> None:\n",
        "        \"\"\"\n",
        "            Builds an neural network to approximate the value of the differential equation\n",
        "            input_size must be set to number of parameters in the function f for ODE this is 1\n",
        "            output_size number of values output by the function for ODE this is 1\n",
        "        \"\"\"\n",
        "        super().__init__()\n",
        "        \n",
        "        self.inputs  = nn.Linear(input_size, hidden_nodes)\n",
        "        self.model   = nn.ModuleList([nn.Linear(hidden_nodes, hidden_nodes)] * hidden_layers)\n",
        "        self.outputs = nn.Linear(hidden_nodes, output_size) \n",
        "        \n",
        "        self.activation = nn.Tanh() # Can be either tanh or sigmoid, ReLU is not differentiable (at 0)\n",
        "    \n",
        "    def _apply_model(self, x: torch.Tensor) -> torch.Tensor:\n",
        "        \"\"\"\n",
        "            Runs the input through the hidden layers\n",
        "        \"\"\"\n",
        "        for layer in self.model:\n",
        "            x = self.activation(layer(x))\n",
        "        return x\n",
        "\n",
        "    def forward(self, t: torch.Tensor) -> torch.Tensor:\n",
        "        t = self.activation(self.inputs(t))\n",
        "        t = self._apply_model(t)\n",
        "        t = self.outputs(t)\n",
        "        return t\n",
        "\n"
      ]
    },
    {
      "cell_type": "code",
      "execution_count": 9,
      "metadata": {
        "id": "FiwDcvsp4sN7"
      },
      "outputs": [],
      "source": [
        "x = np.linspace(0,1,500)\n",
        "y = analytic_solution(x)\n",
        "\n",
        "x = x.reshape(-1,1)\n",
        "y = y.reshape(-1,1)\n",
        "\n",
        "x_data = x[0:200:20]\n",
        "y_data = y[0:200:20]\n",
        "\n",
        "x_data_t = torch.tensor(x_data, dtype =torch.float32, device=\"cuda\")\n",
        "y_data_t = torch.tensor(y_data, dtype =torch.float32, device=\"cuda\")\n",
        "\n",
        "x_physics = torch.linspace(0, 1, 20, requires_grad=True, device=\"cuda\", dtype=torch.float32).reshape(-1,1)"
      ]
    },
    {
      "cell_type": "code",
      "execution_count": 10,
      "metadata": {
        "colab": {
          "base_uri": "https://localhost:8080/"
        },
        "id": "KMhprZ5rCrN5",
        "outputId": "3e11115a-d175-4362-ebc1-71828073dbf9"
      },
      "outputs": [
        {
          "name": "stdout",
          "output_type": "stream",
          "text": [
            "Epochs = 0 of 20000, Loss = 0.4731929\n",
            "Epochs = 1000 of 20000, Loss = 0.0304129\n",
            "Epochs = 2000 of 20000, Loss = 0.0036733\n",
            "Epochs = 3000 of 20000, Loss = 0.0025355\n",
            "Epochs = 4000 of 20000, Loss = 0.0012339\n",
            "Epochs = 5000 of 20000, Loss = 0.0005774\n",
            "Epochs = 6000 of 20000, Loss = 0.0005493\n",
            "Epochs = 7000 of 20000, Loss = 0.0004872\n",
            "Epochs = 8000 of 20000, Loss = 0.0003526\n",
            "Epochs = 9000 of 20000, Loss = 0.0001768\n",
            "Epochs = 10000 of 20000, Loss = 0.0000233\n",
            "Epochs = 11000 of 20000, Loss = 0.0000012\n",
            "Epochs = 12000 of 20000, Loss = 0.0000008\n",
            "Epochs = 13000 of 20000, Loss = 0.0000007\n",
            "Epochs = 14000 of 20000, Loss = 0.0000007\n",
            "Epochs = 15000 of 20000, Loss = 0.0000006\n",
            "Epochs = 16000 of 20000, Loss = 0.0000005\n",
            "Epochs = 17000 of 20000, Loss = 0.0000005\n",
            "Epochs = 18000 of 20000, Loss = 0.0000005\n",
            "Epochs = 19000 of 20000, Loss = 0.0000004\n"
          ]
        }
      ],
      "source": [
        "# Hyperparameters\n",
        "EPOCHS = 20_000\n",
        "LR = 1e-4\n",
        "\n",
        "model = ApproximatorNet(hidden_layers=7, hidden_nodes=10).to('cuda')\n",
        "optim = torch.optim.Adam(model.parameters(), lr=LR) \n",
        "\n",
        "data_loss = nn.MSELoss()\n",
        "\n",
        "for epoch in range(EPOCHS):\n",
        "    optim.zero_grad()\n",
        "\n",
        "    # Data loss\n",
        "    y_pred = model(x_data_t)\n",
        "    loss_u = data_loss(y_pred, y_data_t)\n",
        "\n",
        "    # Physics loss\n",
        "    u = model(x_physics)\n",
        "    du = du  = ag.grad(u, x_physics, torch.ones_like(u), create_graph=True)[0]\n",
        "\n",
        "    physics = du - differential_equation(x_physics)\n",
        "    loss_f = torch.mean(physics**2)\n",
        "\n",
        "    loss = loss_u + loss_f\n",
        "    loss.backward()\n",
        "    optim.step()\n",
        "    if epoch % 1000 == 0:\n",
        "        print(f\"Epochs = {epoch} of {EPOCHS}, Loss = {float(loss):.7f}\")\n"
      ]
    },
    {
      "cell_type": "code",
      "execution_count": 13,
      "metadata": {
        "colab": {
          "base_uri": "https://localhost:8080/",
          "height": 466
        },
        "id": "44SoefG591M1",
        "outputId": "f6520f0f-8b86-44bf-b533-76f1e5120452"
      },
      "outputs": [
        {
          "data": {
            "image/png": "[encoded data removed]",
            "text/plain": [
              "<Figure size 1080x504 with 1 Axes>"
            ]
          },
          "metadata": {},
          "output_type": "display_data"
        }
      ],
      "source": [
        "model.eval()\n",
        "y_pred = model(torch.tensor(x, dtype = torch.float32, device=\"cuda\").reshape(-1,1))\n",
        "y_pred = y_pred.detach().cpu().numpy().reshape(-1,)\n",
        "\n",
        "title_font = {\n",
        "    \"fontsize\" : 18,\n",
        "    \"fontweight\": \"bold\"\n",
        "} \n",
        "\n",
        "plt.figure(figsize=(15, 7))\n",
        "plt.style.use(\"ggplot\")\n",
        "plt.xticks(np.arange(0, 1.01, step=0.1))\n",
        "plt.title(\"Results\", title_font)\n",
        "plt.plot(x, y, label=\"Analytic\")\n",
        "plt.xlabel(\"time\", fontsize=14)\n",
        "plt.plot(x, y_pred, label=\"PINN\", c=\"g\")\n",
        "plt.ylabel(\"u(t)\", fontsize=14)\n",
        "plt.scatter(x_data.reshape(-1,), y_data.reshape(-1,), c=\"r\", label=\"training data points\")\n",
        "plt.legend(fontsize=\"large\")\n",
        "plt.savefig(\"1st-Order-ODE.svg\")\n",
        "plt.show()"
      ]
    },
    {
      "cell_type": "code",
      "execution_count": null,
      "metadata": {
        "id": "NyBdUKXuifs3"
      },
      "outputs": [],
      "source": [
        "import time\n",
        "PATH = f\"LogisticCurveModel_{time.time()}.pt\"\n",
        "torch.save(model.state_dict(), PATH)"
      ]
    }
  ],
  "metadata": {
    "accelerator": "GPU",
    "colab": {
      "collapsed_sections": [],
      "name": "PINN_logistic_eqn.ipynb",
      "provenance": []
    },
    "gpuClass": "standard",
    "kernelspec": {
      "display_name": "Python 3.10.5 64-bit (windows store)",
      "language": "python",
      "name": "python3"
    },
    "language_info": {
      "name": "python",
      "version": "3.10.5"
    },
    "vscode": {
      "interpreter": {
        "hash": "3d168da3104c184f85b243b55cdfbf0b3119f2cd29b30879788df9e426f1e459"
      }
    }
  },
  "nbformat": 4,
  "nbformat_minor": 0
}
